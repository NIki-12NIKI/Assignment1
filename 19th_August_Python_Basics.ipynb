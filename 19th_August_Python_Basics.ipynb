{
 "cells": [
  {
   "cell_type": "code",
   "execution_count": 1,
   "id": "622f2b70-95cf-4e36-8d90-eff6598de065",
   "metadata": {},
   "outputs": [
    {
     "name": "stdout",
     "output_type": "stream",
     "text": [
      "After swapping:\n",
      "x = 10\n",
      "y = 38\n"
     ]
    }
   ],
   "source": [
    "\n",
    "x = 38\n",
    "y = 10\n",
    "\n",
    "x = x + y\n",
    "y = x - y\n",
    "x = x - y\n",
    "\n",
    "print(\"After swapping:\")\n",
    "print(\"x =\", x)\n",
    "print(\"y =\", y)\n"
   ]
  },
  {
   "cell_type": "code",
   "execution_count": 2,
   "id": "f6db1ae5-5a0d-4582-a29c-9c94781dbac7",
   "metadata": {},
   "outputs": [
    {
     "name": "stdin",
     "output_type": "stream",
     "text": [
      "Enter the length of the rectangle:  12\n",
      "Enter the width of the rectangle:  3\n"
     ]
    },
    {
     "name": "stdout",
     "output_type": "stream",
     "text": [
      "The area of the rectangle is: 36.0\n"
     ]
    }
   ],
   "source": [
    "# Taking input from the user for length and width\n",
    "length = float(input(\"Enter the length of the rectangle: \"))\n",
    "width = float(input(\"Enter the width of the rectangle: \"))\n",
    "\n",
    "# Calculating  area \n",
    "area = length * width\n",
    "\n",
    "# Displaying res\n",
    "print(\"The area of the rectangle is:\", area)\n"
   ]
  },
  {
   "cell_type": "code",
   "execution_count": 3,
   "id": "c494c363-26b5-48da-8655-f612832de8e5",
   "metadata": {},
   "outputs": [
    {
     "name": "stdin",
     "output_type": "stream",
     "text": [
      "Enter the temperature in Cel:  30\n"
     ]
    },
    {
     "name": "stdout",
     "output_type": "stream",
     "text": [
      "Temperature in Fah: 86.0\n"
     ]
    }
   ],
   "source": [
    "# Taking input in Celsius\n",
    "cel = float(input(\"Enter the temperature in Cel: \"))\n",
    "\n",
    "# Converting Celsius to Fahrenheit\n",
    "fah = (cel * 9/5) + 32\n",
    "\n",
    "# Displaying the converted temperature in Fahrenheit\n",
    "print(\"Temperature in Fah:\", fah)\n"
   ]
  },
  {
   "cell_type": "code",
   "execution_count": 5,
   "id": "af3b9b84-7bde-4eed-8243-476033dfa0f3",
   "metadata": {},
   "outputs": [
    {
     "name": "stdin",
     "output_type": "stream",
     "text": [
      "Enter a string:  nikita\n"
     ]
    },
    {
     "name": "stdout",
     "output_type": "stream",
     "text": [
      "The length of the string is: 6\n"
     ]
    }
   ],
   "source": [
    "# Taking input \n",
    "str = input(\"Enter a string: \")\n",
    "\n",
    "# Calculating the length of the string\n",
    "str = len(str)\n",
    "\n",
    "# Displaying the length of the string\n",
    "print(\"The length of the string is:\", str)\n"
   ]
  },
  {
   "cell_type": "code",
   "execution_count": 6,
   "id": "ace049f0-ec36-4903-a2dc-367139af392e",
   "metadata": {},
   "outputs": [
    {
     "name": "stdin",
     "output_type": "stream",
     "text": [
      "Enter a sentence:  This is my first assignment\n"
     ]
    },
    {
     "name": "stdout",
     "output_type": "stream",
     "text": [
      "The number of vowels in the sentence is: 6\n"
     ]
    }
   ],
   "source": [
    "\n",
    "sentence = input(\"Enter a sentence: \")\n",
    "\n",
    "sentence = sentence.lower()\n",
    "\n",
    "vowel_count = 0\n",
    "for char in sentence:\n",
    "    if char in \"aeiou\":\n",
    "        vowel_count += 1\n",
    "\n",
    "print(\"The number of vowels in the sentence is:\", vowel_count)\n"
   ]
  },
  {
   "cell_type": "code",
   "execution_count": 7,
   "id": "7310828b-7edc-480d-bc14-a32c74888be6",
   "metadata": {},
   "outputs": [
    {
     "name": "stdin",
     "output_type": "stream",
     "text": [
      "Enter a string:  NIKITAYADAV\n"
     ]
    },
    {
     "name": "stdout",
     "output_type": "stream",
     "text": [
      "Reversed string: VADAYATIKIN\n"
     ]
    }
   ],
   "source": [
    "\n",
    "org_string = input(\"Enter a string: \")\n",
    "\n",
    "rev_string = org_string[::-1]\n",
    "\n",
    "print(\"Reversed string:\", rev_string)\n"
   ]
  },
  {
   "cell_type": "code",
   "execution_count": 10,
   "id": "dd6372b5-d63b-46af-b008-24140ea0b8cf",
   "metadata": {},
   "outputs": [
    {
     "name": "stdin",
     "output_type": "stream",
     "text": [
      "Enter a string:  MADAM\n"
     ]
    },
    {
     "name": "stdout",
     "output_type": "stream",
     "text": [
      "The input string is a palindrome.\n"
     ]
    }
   ],
   "source": [
    "\n",
    "input_string = input(\"Enter a string: \")\n",
    "\n",
    "reversed_string = input_string[::-1]\n",
    "\n",
    "if input_string == reversed_string:\n",
    "    print(\"The input string is a palindrome.\")\n",
    "else:\n",
    "    print(\"The input string is not a palindrome.\")\n"
   ]
  },
  {
   "cell_type": "code",
   "execution_count": 11,
   "id": "72601e07-829a-4937-ab24-9d10e94a1e1f",
   "metadata": {},
   "outputs": [
    {
     "name": "stdin",
     "output_type": "stream",
     "text": [
      "Enter a string:   This is my first assignment\n"
     ]
    },
    {
     "name": "stdout",
     "output_type": "stream",
     "text": [
      "Modified string: Thisismyfirstassignment\n"
     ]
    }
   ],
   "source": [
    "# Taking input\n",
    "input_string = input(\"Enter a string: \")\n",
    "\n",
    "modified_string = input_string.replace(\" \", \"\")\n",
    "print(\"Modified string:\", modified_string)\n"
   ]
  },
  {
   "cell_type": "code",
   "execution_count": null,
   "id": "00465a92-bc85-4d07-ae71-75b38b34af94",
   "metadata": {},
   "outputs": [],
   "source": []
  }
 ],
 "metadata": {
  "kernelspec": {
   "display_name": "Python 3 (ipykernel)",
   "language": "python",
   "name": "python3"
  },
  "language_info": {
   "codemirror_mode": {
    "name": "ipython",
    "version": 3
   },
   "file_extension": ".py",
   "mimetype": "text/x-python",
   "name": "python",
   "nbconvert_exporter": "python",
   "pygments_lexer": "ipython3",
   "version": "3.10.8"
  }
 },
 "nbformat": 4,
 "nbformat_minor": 5
}
